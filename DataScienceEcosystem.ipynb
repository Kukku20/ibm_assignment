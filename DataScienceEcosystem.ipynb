{
 "cells": [
  {
   "cell_type": "markdown",
   "id": "2d7884aa-485f-4066-9734-7d3140d7c7c4",
   "metadata": {},
   "source": [
    "# Data Science Tools and Ecosystem"
   ]
  },
  {
   "cell_type": "markdown",
   "id": "0c2428dd-7594-485a-bd75-a0acf638c7a2",
   "metadata": {},
   "source": [
    "In this notebook, Data Science Tools and Ecosystem are summarized."
   ]
  },
  {
   "cell_type": "markdown",
   "id": "d3830eb5-6a5f-4ef0-b99d-7fbfb60c436d",
   "metadata": {},
   "source": [
    "Some of the popular languages that Data Scientists use are:\n",
    "\n",
    "1.Python\n",
    "\n",
    "2.R\n",
    "\n",
    "3.sql"
   ]
  },
  {
   "cell_type": "markdown",
   "id": "104f7304-b2e8-4fb6-9511-677cdb02a594",
   "metadata": {},
   "source": [
    "Some of the commonly used libraries used by Data Scientists include:\r\n",
    "\r\n",
    "1. NumPy\r\n",
    "2. Pandas\r\n",
    "3. Matplotlib\r\n",
    "4. Scikit-learn\r\n",
    "5. TensorFlow\r\n",
    "ies.png"
   ]
  },
  {
   "cell_type": "markdown",
   "id": "28798833-061f-46ef-ae46-af149fa91cb5",
   "metadata": {},
   "source": [
    "| Data Science Tools     |\r\n",
    "|------------------------|\r\n",
    "| Jupyter Notebook       |\r\n",
    "| RStudio                |\r\n",
    "| Apache Zeppelin        |\r\n"
   ]
  },
  {
   "cell_type": "markdown",
   "id": "521b90f4-f1bb-47a0-b7f2-89acb8b0008e",
   "metadata": {},
   "source": [
    "### Below are a few examples of evaluating arithmetic expressions in Python:\n"
   ]
  },
  {
   "cell_type": "code",
   "execution_count": 2,
   "id": "8e6046a3-437b-4643-8c55-a21c049120b4",
   "metadata": {},
   "outputs": [
    {
     "data": {
      "text/plain": [
       "17"
      ]
     },
     "execution_count": 2,
     "metadata": {},
     "output_type": "execute_result"
    }
   ],
   "source": [
    "# This is a simple arithmetic expression to multiply then add integers\n",
    "result = (3 * 4) + 5\n",
    "result\n"
   ]
  },
  {
   "cell_type": "code",
   "execution_count": 3,
   "id": "bd81ec96-433b-4ec7-8b5d-1552cf1d5a4b",
   "metadata": {},
   "outputs": [
    {
     "data": {
      "text/plain": [
       "3.3333333333333335"
      ]
     },
     "execution_count": 3,
     "metadata": {},
     "output_type": "execute_result"
    }
   ],
   "source": [
    "# This will convert 200 minutes to hours by dividing by 60\n",
    "minutes = 200\n",
    "hours = minutes / 60\n",
    "hours\n"
   ]
  },
  {
   "cell_type": "markdown",
   "id": "9cc17950-88bd-4da0-8e48-99615e636388",
   "metadata": {},
   "source": [
    "**Objectives:**\n",
    "\n",
    "- List popular languages for Data Science.\n",
    "- List commonly used libraries in Data Science.\n",
    "- List open-source tools for Data Science.\n",
    "- Perform simple arithmetic operations in Python.\n",
    "- Convert time units (minutes to hours) in Python.\n"
   ]
  },
  {
   "cell_type": "markdown",
   "id": "9fcfd419-0233-4470-bb5b-d9ef74f0c6d5",
   "metadata": {},
   "source": [
    "## Author\n",
    "kukku"
   ]
  }
 ],
 "metadata": {
  "kernelspec": {
   "display_name": "Python 3 (ipykernel)",
   "language": "python",
   "name": "python3"
  },
  "language_info": {
   "codemirror_mode": {
    "name": "ipython",
    "version": 3
   },
   "file_extension": ".py",
   "mimetype": "text/x-python",
   "name": "python",
   "nbconvert_exporter": "python",
   "pygments_lexer": "ipython3",
   "version": "3.12.4"
  }
 },
 "nbformat": 4,
 "nbformat_minor": 5
}
